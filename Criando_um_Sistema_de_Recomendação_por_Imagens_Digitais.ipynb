{
  "nbformat": 4,
  "nbformat_minor": 0,
  "metadata": {
    "colab": {
      "provenance": [],
      "authorship_tag": "ABX9TyOz8ecI6Ql6KKvnqTu9+lNS",
      "include_colab_link": true
    },
    "kernelspec": {
      "name": "python3",
      "display_name": "Python 3"
    },
    "language_info": {
      "name": "python"
    }
  },
  "cells": [
    {
      "cell_type": "markdown",
      "metadata": {
        "id": "view-in-github",
        "colab_type": "text"
      },
      "source": [
        "<a href=\"https://colab.research.google.com/github/Jean-Carlosms/-Criando-um-Sistema-de-Recomenda-o-por-Imagens-Digitais/blob/main/Criando_um_Sistema_de_Recomenda%C3%A7%C3%A3o_por_Imagens_Digitais.ipynb\" target=\"_parent\"><img src=\"https://colab.research.google.com/assets/colab-badge.svg\" alt=\"Open In Colab\"/></a>"
      ]
    },
    {
      "cell_type": "code",
      "source": [
        "!pip install faiss-cpu"
      ],
      "metadata": {
        "colab": {
          "base_uri": "https://localhost:8080/"
        },
        "id": "Q_oS7hwSyT-A",
        "outputId": "ccb57034-d2b6-4bff-f5a2-ac3580ebd37c"
      },
      "execution_count": null,
      "outputs": [
        {
          "output_type": "stream",
          "name": "stdout",
          "text": [
            "Collecting faiss-cpu\n",
            "  Downloading faiss_cpu-1.10.0-cp311-cp311-manylinux_2_28_x86_64.whl.metadata (4.4 kB)\n",
            "Requirement already satisfied: numpy<3.0,>=1.25.0 in /usr/local/lib/python3.11/dist-packages (from faiss-cpu) (1.26.4)\n",
            "Requirement already satisfied: packaging in /usr/local/lib/python3.11/dist-packages (from faiss-cpu) (24.2)\n",
            "Downloading faiss_cpu-1.10.0-cp311-cp311-manylinux_2_28_x86_64.whl (30.7 MB)\n",
            "\u001b[2K   \u001b[90m━━━━━━━━━━━━━━━━━━━━━━━━━━━━━━━━━━━━━━━━\u001b[0m \u001b[32m30.7/30.7 MB\u001b[0m \u001b[31m39.0 MB/s\u001b[0m eta \u001b[36m0:00:00\u001b[0m\n",
            "\u001b[?25hInstalling collected packages: faiss-cpu\n",
            "Successfully installed faiss-cpu-1.10.0\n"
          ]
        }
      ]
    },
    {
      "cell_type": "code",
      "execution_count": null,
      "metadata": {
        "colab": {
          "base_uri": "https://localhost:8080/",
          "height": 456
        },
        "id": "RNUD9Oktx_ku",
        "outputId": "71cac50b-4759-4bc3-fdd3-c91204de67cc"
      },
      "outputs": [
        {
          "output_type": "stream",
          "name": "stderr",
          "text": [
            "/usr/local/lib/python3.11/dist-packages/torchvision/models/_utils.py:208: UserWarning: The parameter 'pretrained' is deprecated since 0.13 and may be removed in the future, please use 'weights' instead.\n",
            "  warnings.warn(\n",
            "/usr/local/lib/python3.11/dist-packages/torchvision/models/_utils.py:223: UserWarning: Arguments other than a weight enum or `None` for 'weights' are deprecated since 0.13 and may be removed in the future. The current behavior is equivalent to passing `weights=ResNet50_Weights.IMAGENET1K_V1`. You can also use `weights=ResNet50_Weights.DEFAULT` to get the most up-to-date weights.\n",
            "  warnings.warn(msg)\n",
            "Downloading: \"https://download.pytorch.org/models/resnet50-0676ba61.pth\" to /root/.cache/torch/hub/checkpoints/resnet50-0676ba61.pth\n",
            "100%|██████████| 97.8M/97.8M [00:01<00:00, 91.4MB/s]\n"
          ]
        },
        {
          "output_type": "error",
          "ename": "FileNotFoundError",
          "evalue": "[Errno 2] No such file or directory: 'dataset_images'",
          "traceback": [
            "\u001b[0;31m---------------------------------------------------------------------------\u001b[0m",
            "\u001b[0;31mFileNotFoundError\u001b[0m                         Traceback (most recent call last)",
            "\u001b[0;32m<ipython-input-3-2664cf225325>\u001b[0m in \u001b[0;36m<cell line: 0>\u001b[0;34m()\u001b[0m\n\u001b[1;32m     79\u001b[0m     \u001b[0;31m# Construir ou carregar o índice\u001b[0m\u001b[0;34m\u001b[0m\u001b[0;34m\u001b[0m\u001b[0m\n\u001b[1;32m     80\u001b[0m     \u001b[0;32mif\u001b[0m \u001b[0;32mnot\u001b[0m \u001b[0mos\u001b[0m\u001b[0;34m.\u001b[0m\u001b[0mpath\u001b[0m\u001b[0;34m.\u001b[0m\u001b[0mexists\u001b[0m\u001b[0;34m(\u001b[0m\u001b[0mindex_path\u001b[0m\u001b[0;34m)\u001b[0m \u001b[0;32mor\u001b[0m \u001b[0;32mnot\u001b[0m \u001b[0mos\u001b[0m\u001b[0;34m.\u001b[0m\u001b[0mpath\u001b[0m\u001b[0;34m.\u001b[0m\u001b[0mexists\u001b[0m\u001b[0;34m(\u001b[0m\u001b[0mmetadata_path\u001b[0m\u001b[0;34m)\u001b[0m\u001b[0;34m:\u001b[0m\u001b[0;34m\u001b[0m\u001b[0;34m\u001b[0m\u001b[0m\n\u001b[0;32m---> 81\u001b[0;31m         \u001b[0mindex\u001b[0m\u001b[0;34m,\u001b[0m \u001b[0mimage_paths\u001b[0m \u001b[0;34m=\u001b[0m \u001b[0mbuild_index\u001b[0m\u001b[0;34m(\u001b[0m\u001b[0mimage_folder\u001b[0m\u001b[0;34m,\u001b[0m \u001b[0mindex_path\u001b[0m\u001b[0;34m,\u001b[0m \u001b[0mmetadata_path\u001b[0m\u001b[0;34m)\u001b[0m\u001b[0;34m\u001b[0m\u001b[0;34m\u001b[0m\u001b[0m\n\u001b[0m\u001b[1;32m     82\u001b[0m     \u001b[0;32melse\u001b[0m\u001b[0;34m:\u001b[0m\u001b[0;34m\u001b[0m\u001b[0;34m\u001b[0m\u001b[0m\n\u001b[1;32m     83\u001b[0m         \u001b[0mindex\u001b[0m\u001b[0;34m,\u001b[0m \u001b[0mimage_paths\u001b[0m \u001b[0;34m=\u001b[0m \u001b[0mload_index\u001b[0m\u001b[0;34m(\u001b[0m\u001b[0mindex_path\u001b[0m\u001b[0;34m,\u001b[0m \u001b[0mmetadata_path\u001b[0m\u001b[0;34m)\u001b[0m\u001b[0;34m\u001b[0m\u001b[0;34m\u001b[0m\u001b[0m\n",
            "\u001b[0;32m<ipython-input-3-2664cf225325>\u001b[0m in \u001b[0;36mbuild_index\u001b[0;34m(image_folder, index_path, metadata_path)\u001b[0m\n\u001b[1;32m     39\u001b[0m     \u001b[0mextractor\u001b[0m \u001b[0;34m=\u001b[0m \u001b[0mFeatureExtractor\u001b[0m\u001b[0;34m(\u001b[0m\u001b[0mdevice\u001b[0m\u001b[0;34m=\u001b[0m\u001b[0;34m\"cuda\"\u001b[0m \u001b[0;32mif\u001b[0m \u001b[0mtorch\u001b[0m\u001b[0;34m.\u001b[0m\u001b[0mcuda\u001b[0m\u001b[0;34m.\u001b[0m\u001b[0mis_available\u001b[0m\u001b[0;34m(\u001b[0m\u001b[0;34m)\u001b[0m \u001b[0;32melse\u001b[0m \u001b[0;34m\"cpu\"\u001b[0m\u001b[0;34m)\u001b[0m\u001b[0;34m\u001b[0m\u001b[0;34m\u001b[0m\u001b[0m\n\u001b[1;32m     40\u001b[0m \u001b[0;34m\u001b[0m\u001b[0m\n\u001b[0;32m---> 41\u001b[0;31m     \u001b[0mimage_paths\u001b[0m \u001b[0;34m=\u001b[0m \u001b[0;34m[\u001b[0m\u001b[0mos\u001b[0m\u001b[0;34m.\u001b[0m\u001b[0mpath\u001b[0m\u001b[0;34m.\u001b[0m\u001b[0mjoin\u001b[0m\u001b[0;34m(\u001b[0m\u001b[0mimage_folder\u001b[0m\u001b[0;34m,\u001b[0m \u001b[0mf\u001b[0m\u001b[0;34m)\u001b[0m \u001b[0;32mfor\u001b[0m \u001b[0mf\u001b[0m \u001b[0;32min\u001b[0m \u001b[0mos\u001b[0m\u001b[0;34m.\u001b[0m\u001b[0mlistdir\u001b[0m\u001b[0;34m(\u001b[0m\u001b[0mimage_folder\u001b[0m\u001b[0;34m)\u001b[0m \u001b[0;32mif\u001b[0m \u001b[0mf\u001b[0m\u001b[0;34m.\u001b[0m\u001b[0mendswith\u001b[0m\u001b[0;34m(\u001b[0m\u001b[0;34m(\u001b[0m\u001b[0;34m'.png'\u001b[0m\u001b[0;34m,\u001b[0m \u001b[0;34m'.jpg'\u001b[0m\u001b[0;34m,\u001b[0m \u001b[0;34m'.jpeg'\u001b[0m\u001b[0;34m)\u001b[0m\u001b[0;34m)\u001b[0m\u001b[0;34m]\u001b[0m\u001b[0;34m\u001b[0m\u001b[0;34m\u001b[0m\u001b[0m\n\u001b[0m\u001b[1;32m     42\u001b[0m     \u001b[0mfeature_list\u001b[0m \u001b[0;34m=\u001b[0m \u001b[0;34m[\u001b[0m\u001b[0;34m]\u001b[0m\u001b[0;34m\u001b[0m\u001b[0;34m\u001b[0m\u001b[0m\n\u001b[1;32m     43\u001b[0m \u001b[0;34m\u001b[0m\u001b[0m\n",
            "\u001b[0;31mFileNotFoundError\u001b[0m: [Errno 2] No such file or directory: 'dataset_images'"
          ]
        }
      ],
      "source": [
        "import os\n",
        "import numpy as np\n",
        "import faiss\n",
        "import torch\n",
        "import torchvision.transforms as transforms\n",
        "from torchvision import models\n",
        "from PIL import Image\n",
        "import requests\n",
        "from io import BytesIO\n",
        "import pickle\n",
        "\n",
        "# Classe para extração de características\n",
        "class FeatureExtractor:\n",
        "    def __init__(self, device=\"cpu\"):\n",
        "        self.device = device\n",
        "        self.model = models.resnet50(pretrained=True).to(self.device)\n",
        "        self.model.fc = torch.nn.Identity()\n",
        "        self.model.eval()\n",
        "        self.transform = transforms.Compose([\n",
        "            transforms.Resize((224, 224)),\n",
        "            transforms.ToTensor(),\n",
        "            transforms.Normalize(mean=[0.485, 0.456, 0.406], std=[0.229, 0.224, 0.225])\n",
        "        ])\n",
        "\n",
        "    def extract(self, img):\n",
        "        image = self.transform(img).unsqueeze(0).to(self.device)\n",
        "        with torch.no_grad():\n",
        "            features = self.model(image)\n",
        "        return features.cpu().squeeze().numpy()\n",
        "\n",
        "# Baixar imagem de URL\n",
        "def download_image(url):\n",
        "    response = requests.get(url)\n",
        "    image = Image.open(BytesIO(response.content)).convert(\"RGB\")\n",
        "    return image\n",
        "\n",
        "# Criar e salvar o índice FAISS\n",
        "def build_index(image_folder, index_path=\"faiss_index.bin\", metadata_path=\"image_paths.pkl\"):\n",
        "    extractor = FeatureExtractor(device=\"cuda\" if torch.cuda.is_available() else \"cpu\")\n",
        "\n",
        "    image_paths = [os.path.join(image_folder, f) for f in os.listdir(image_folder) if f.endswith(('.png', '.jpg', '.jpeg'))]\n",
        "    feature_list = []\n",
        "\n",
        "    for img_path in image_paths:\n",
        "        image = Image.open(img_path).convert(\"RGB\")\n",
        "        features = extractor.extract(image)\n",
        "        feature_list.append(features)\n",
        "\n",
        "    features_matrix = np.array(feature_list, dtype=np.float32)\n",
        "    index = faiss.IndexFlatL2(features_matrix.shape[1])\n",
        "    index.add(features_matrix)\n",
        "\n",
        "    faiss.write_index(index, index_path)\n",
        "    with open(metadata_path, \"wb\") as f:\n",
        "        pickle.dump(image_paths, f)\n",
        "\n",
        "    return index, image_paths\n",
        "\n",
        "# Carregar o índice FAISS salvo\n",
        "def load_index(index_path=\"faiss_index.bin\", metadata_path=\"image_paths.pkl\"):\n",
        "    index = faiss.read_index(index_path)\n",
        "    with open(metadata_path, \"rb\") as f:\n",
        "        image_paths = pickle.load(f)\n",
        "    return index, image_paths\n",
        "\n",
        "# Buscar imagens similares\n",
        "def search_similar(image_url, index, image_paths, extractor, k=5):\n",
        "    query_image = download_image(image_url)\n",
        "    query_feature = extractor.extract(query_image).reshape(1, -1)\n",
        "    distances, indices = index.search(query_feature, k)\n",
        "    return [image_paths[i] for i in indices[0]]\n",
        "\n",
        "# Exemplo de uso\n",
        "if __name__ == \"__main__\":\n",
        "    image_folder = \"dataset_images\"\n",
        "    index_path = \"faiss_index.bin\"\n",
        "    metadata_path = \"image_paths.pkl\"\n",
        "\n",
        "    # Construir ou carregar o índice\n",
        "    if not os.path.exists(index_path) or not os.path.exists(metadata_path):\n",
        "        index, image_paths = build_index(image_folder, index_path, metadata_path)\n",
        "    else:\n",
        "        index, image_paths = load_index(index_path, metadata_path)\n",
        "\n",
        "    # Criar extrator de características\n",
        "    extractor = FeatureExtractor(device=\"cuda\" if torch.cuda.is_available() else \"cpu\")\n",
        "\n",
        "    # Buscar imagens similares\n",
        "    #query_image_url = \"https://b.fssta.com/uploads/application/soccer/headshots/713.vresize.350.350.medium.34.png\"\n",
        "    results = search_similar(query_image_url, index, image_paths, extractor)\n",
        "\n",
        "    print(\"Imagens similares encontradas:\")\n",
        "    for img in results:\n",
        "        print(img)\n"
      ]
    }
  ]
}